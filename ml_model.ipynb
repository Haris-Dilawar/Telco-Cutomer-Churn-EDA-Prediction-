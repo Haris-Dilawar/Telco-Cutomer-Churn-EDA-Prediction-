{
 "cells": [
  {
   "cell_type": "markdown",
   "id": "188ede67-da69-46e5-804f-03b08b776fe0",
   "metadata": {},
   "source": [
    "# Building and Training Model on the cleaned data file"
   ]
  },
  {
   "cell_type": "markdown",
   "id": "770abe41-1475-4614-8faa-b803d1c89087",
   "metadata": {},
   "source": [
    "## 1. Istalling and importing Packages"
   ]
  },
  {
   "cell_type": "code",
   "execution_count": 1,
   "id": "904773f3-4626-49b6-8c2a-07053d520d42",
   "metadata": {},
   "outputs": [
    {
     "name": "stdout",
     "output_type": "stream",
     "text": [
      "Requirement already satisfied: imblearn in c:\\users\\nexgen\\anaconda3\\lib\\site-packages (0.0)\n",
      "Requirement already satisfied: imbalanced-learn in c:\\users\\nexgen\\anaconda3\\lib\\site-packages (from imblearn) (0.10.1)\n",
      "Requirement already satisfied: joblib>=1.1.1 in c:\\users\\nexgen\\anaconda3\\lib\\site-packages (from imbalanced-learn->imblearn) (1.2.0)\n",
      "Requirement already satisfied: numpy>=1.17.3 in c:\\users\\nexgen\\anaconda3\\lib\\site-packages (from imbalanced-learn->imblearn) (1.21.5)\n",
      "Requirement already satisfied: scipy>=1.3.2 in c:\\users\\nexgen\\anaconda3\\lib\\site-packages (from imbalanced-learn->imblearn) (1.9.1)\n",
      "Requirement already satisfied: threadpoolctl>=2.0.0 in c:\\users\\nexgen\\anaconda3\\lib\\site-packages (from imbalanced-learn->imblearn) (2.2.0)\n",
      "Requirement already satisfied: scikit-learn>=1.0.2 in c:\\users\\nexgen\\anaconda3\\lib\\site-packages (from imbalanced-learn->imblearn) (1.0.2)\n"
     ]
    }
   ],
   "source": [
    "import pandas as pd\n",
    "from sklearn import metrics\n",
    "from sklearn.model_selection import train_test_split\n",
    "from sklearn.metrics import recall_score\n",
    "from sklearn.metrics import classification_report\n",
    "from sklearn.metrics import confusion_matrix\n",
    "from sklearn.tree import DecisionTreeClassifier\n",
    "## using smotenning method to do balance the label data to remove the accuracy curse \n",
    "## we can do this by upsampling or downsampling too.\n",
    "!pip install imblearn\n",
    "from imblearn.combine import SMOTEENN"
   ]
  },
  {
   "cell_type": "code",
   "execution_count": 6,
   "id": "eebb31d6-ddd1-4088-9a87-0b27e8641691",
   "metadata": {},
   "outputs": [
    {
     "data": {
      "text/html": [
       "<div>\n",
       "<style scoped>\n",
       "    .dataframe tbody tr th:only-of-type {\n",
       "        vertical-align: middle;\n",
       "    }\n",
       "\n",
       "    .dataframe tbody tr th {\n",
       "        vertical-align: top;\n",
       "    }\n",
       "\n",
       "    .dataframe thead th {\n",
       "        text-align: right;\n",
       "    }\n",
       "</style>\n",
       "<table border=\"1\" class=\"dataframe\">\n",
       "  <thead>\n",
       "    <tr style=\"text-align: right;\">\n",
       "      <th></th>\n",
       "      <th>SeniorCitizen</th>\n",
       "      <th>MonthlyCharges</th>\n",
       "      <th>TotalCharges</th>\n",
       "      <th>Churn</th>\n",
       "      <th>gender_Female</th>\n",
       "      <th>gender_Male</th>\n",
       "      <th>Partner_No</th>\n",
       "      <th>Partner_Yes</th>\n",
       "      <th>Dependents_No</th>\n",
       "      <th>Dependents_Yes</th>\n",
       "      <th>...</th>\n",
       "      <th>PaymentMethod_Bank transfer (automatic)</th>\n",
       "      <th>PaymentMethod_Credit card (automatic)</th>\n",
       "      <th>PaymentMethod_Electronic check</th>\n",
       "      <th>PaymentMethod_Mailed check</th>\n",
       "      <th>tenure_group_1 - 12</th>\n",
       "      <th>tenure_group_13 - 24</th>\n",
       "      <th>tenure_group_25 - 36</th>\n",
       "      <th>tenure_group_37 - 48</th>\n",
       "      <th>tenure_group_49 - 60</th>\n",
       "      <th>tenure_group_61 - 72</th>\n",
       "    </tr>\n",
       "  </thead>\n",
       "  <tbody>\n",
       "    <tr>\n",
       "      <th>0</th>\n",
       "      <td>0</td>\n",
       "      <td>29.85</td>\n",
       "      <td>29.85</td>\n",
       "      <td>0</td>\n",
       "      <td>1</td>\n",
       "      <td>0</td>\n",
       "      <td>0</td>\n",
       "      <td>1</td>\n",
       "      <td>1</td>\n",
       "      <td>0</td>\n",
       "      <td>...</td>\n",
       "      <td>0</td>\n",
       "      <td>0</td>\n",
       "      <td>1</td>\n",
       "      <td>0</td>\n",
       "      <td>1</td>\n",
       "      <td>0</td>\n",
       "      <td>0</td>\n",
       "      <td>0</td>\n",
       "      <td>0</td>\n",
       "      <td>0</td>\n",
       "    </tr>\n",
       "    <tr>\n",
       "      <th>1</th>\n",
       "      <td>0</td>\n",
       "      <td>56.95</td>\n",
       "      <td>1889.50</td>\n",
       "      <td>0</td>\n",
       "      <td>0</td>\n",
       "      <td>1</td>\n",
       "      <td>1</td>\n",
       "      <td>0</td>\n",
       "      <td>1</td>\n",
       "      <td>0</td>\n",
       "      <td>...</td>\n",
       "      <td>0</td>\n",
       "      <td>0</td>\n",
       "      <td>0</td>\n",
       "      <td>1</td>\n",
       "      <td>0</td>\n",
       "      <td>0</td>\n",
       "      <td>1</td>\n",
       "      <td>0</td>\n",
       "      <td>0</td>\n",
       "      <td>0</td>\n",
       "    </tr>\n",
       "    <tr>\n",
       "      <th>2</th>\n",
       "      <td>0</td>\n",
       "      <td>53.85</td>\n",
       "      <td>108.15</td>\n",
       "      <td>1</td>\n",
       "      <td>0</td>\n",
       "      <td>1</td>\n",
       "      <td>1</td>\n",
       "      <td>0</td>\n",
       "      <td>1</td>\n",
       "      <td>0</td>\n",
       "      <td>...</td>\n",
       "      <td>0</td>\n",
       "      <td>0</td>\n",
       "      <td>0</td>\n",
       "      <td>1</td>\n",
       "      <td>1</td>\n",
       "      <td>0</td>\n",
       "      <td>0</td>\n",
       "      <td>0</td>\n",
       "      <td>0</td>\n",
       "      <td>0</td>\n",
       "    </tr>\n",
       "    <tr>\n",
       "      <th>3</th>\n",
       "      <td>0</td>\n",
       "      <td>42.30</td>\n",
       "      <td>1840.75</td>\n",
       "      <td>0</td>\n",
       "      <td>0</td>\n",
       "      <td>1</td>\n",
       "      <td>1</td>\n",
       "      <td>0</td>\n",
       "      <td>1</td>\n",
       "      <td>0</td>\n",
       "      <td>...</td>\n",
       "      <td>1</td>\n",
       "      <td>0</td>\n",
       "      <td>0</td>\n",
       "      <td>0</td>\n",
       "      <td>0</td>\n",
       "      <td>0</td>\n",
       "      <td>0</td>\n",
       "      <td>1</td>\n",
       "      <td>0</td>\n",
       "      <td>0</td>\n",
       "    </tr>\n",
       "    <tr>\n",
       "      <th>4</th>\n",
       "      <td>0</td>\n",
       "      <td>70.70</td>\n",
       "      <td>151.65</td>\n",
       "      <td>1</td>\n",
       "      <td>1</td>\n",
       "      <td>0</td>\n",
       "      <td>1</td>\n",
       "      <td>0</td>\n",
       "      <td>1</td>\n",
       "      <td>0</td>\n",
       "      <td>...</td>\n",
       "      <td>0</td>\n",
       "      <td>0</td>\n",
       "      <td>1</td>\n",
       "      <td>0</td>\n",
       "      <td>1</td>\n",
       "      <td>0</td>\n",
       "      <td>0</td>\n",
       "      <td>0</td>\n",
       "      <td>0</td>\n",
       "      <td>0</td>\n",
       "    </tr>\n",
       "  </tbody>\n",
       "</table>\n",
       "<p>5 rows × 51 columns</p>\n",
       "</div>"
      ],
      "text/plain": [
       "   SeniorCitizen  MonthlyCharges  TotalCharges  Churn  gender_Female  \\\n",
       "0              0           29.85         29.85      0              1   \n",
       "1              0           56.95       1889.50      0              0   \n",
       "2              0           53.85        108.15      1              0   \n",
       "3              0           42.30       1840.75      0              0   \n",
       "4              0           70.70        151.65      1              1   \n",
       "\n",
       "   gender_Male  Partner_No  Partner_Yes  Dependents_No  Dependents_Yes  ...  \\\n",
       "0            0           0            1              1               0  ...   \n",
       "1            1           1            0              1               0  ...   \n",
       "2            1           1            0              1               0  ...   \n",
       "3            1           1            0              1               0  ...   \n",
       "4            0           1            0              1               0  ...   \n",
       "\n",
       "   PaymentMethod_Bank transfer (automatic)  \\\n",
       "0                                        0   \n",
       "1                                        0   \n",
       "2                                        0   \n",
       "3                                        1   \n",
       "4                                        0   \n",
       "\n",
       "   PaymentMethod_Credit card (automatic)  PaymentMethod_Electronic check  \\\n",
       "0                                      0                               1   \n",
       "1                                      0                               0   \n",
       "2                                      0                               0   \n",
       "3                                      0                               0   \n",
       "4                                      0                               1   \n",
       "\n",
       "   PaymentMethod_Mailed check  tenure_group_1 - 12  tenure_group_13 - 24  \\\n",
       "0                           0                    1                     0   \n",
       "1                           1                    0                     0   \n",
       "2                           1                    1                     0   \n",
       "3                           0                    0                     0   \n",
       "4                           0                    1                     0   \n",
       "\n",
       "   tenure_group_25 - 36  tenure_group_37 - 48  tenure_group_49 - 60  \\\n",
       "0                     0                     0                     0   \n",
       "1                     1                     0                     0   \n",
       "2                     0                     0                     0   \n",
       "3                     0                     1                     0   \n",
       "4                     0                     0                     0   \n",
       "\n",
       "   tenure_group_61 - 72  \n",
       "0                     0  \n",
       "1                     0  \n",
       "2                     0  \n",
       "3                     0  \n",
       "4                     0  \n",
       "\n",
       "[5 rows x 51 columns]"
      ]
     },
     "execution_count": 6,
     "metadata": {},
     "output_type": "execute_result"
    }
   ],
   "source": [
    "modelData=pd.read_csv(\"C:/Users/Nexgen/Telecom data/cleanedData.csv\")\n",
    "modelData.head()"
   ]
  },
  {
   "cell_type": "markdown",
   "id": "f57cf774-2c2a-49bb-bba6-97d87485b12e",
   "metadata": {},
   "source": [
    "## 2. Separating features and label from cleaned data file"
   ]
  },
  {
   "cell_type": "code",
   "execution_count": 119,
   "id": "6b0cbf25-bccb-4c40-ab65-d9927549a987",
   "metadata": {},
   "outputs": [],
   "source": [
    "featuresData=df.drop('Churn',axis=1)\n",
    "featuresData\n",
    "#storing separate features file into a separate csv\n",
    "featuresData.to_csv('featuressData.csv', index=False)"
   ]
  },
  {
   "cell_type": "code",
   "execution_count": 120,
   "id": "58ba8899-768c-4627-badb-6a564451dc53",
   "metadata": {},
   "outputs": [],
   "source": [
    "labelData=df['Churn']\n",
    "labelData\n",
    "#storing separate label file into a separate csv\n",
    "labelData.to_csv('labelData.csv', index=False)"
   ]
  },
  {
   "cell_type": "markdown",
   "id": "93610694-d67c-4772-a31c-550eb93ef466",
   "metadata": {},
   "source": [
    "## 3. creating and training Decision Tree Model"
   ]
  },
  {
   "cell_type": "code",
   "execution_count": 10,
   "id": "74d759a7-b5b3-4ae3-a302-6725a4a515ab",
   "metadata": {},
   "outputs": [],
   "source": [
    "x_train,x_test,y_train,y_test=train_test_split(featuresData,labelData,test_size=0.2)"
   ]
  },
  {
   "cell_type": "code",
   "execution_count": 12,
   "id": "e200c6d6-49df-42ad-a245-7038ca625b11",
   "metadata": {},
   "outputs": [],
   "source": [
    "#Decision tree classifier\n",
    "model_dt=DecisionTreeClassifier(criterion = \"gini\",random_state = 100,max_depth=6, min_samples_leaf=8)"
   ]
  },
  {
   "cell_type": "code",
   "execution_count": 13,
   "id": "17e40354-065b-43ba-bf8c-e664e0a38b65",
   "metadata": {},
   "outputs": [
    {
     "data": {
      "text/plain": [
       "DecisionTreeClassifier(max_depth=6, min_samples_leaf=8, random_state=100)"
      ]
     },
     "execution_count": 13,
     "metadata": {},
     "output_type": "execute_result"
    }
   ],
   "source": [
    "model_dt.fit(x_train,y_train)"
   ]
  },
  {
   "cell_type": "code",
   "execution_count": 14,
   "id": "30d782ce-1bd8-463a-a883-d50354c2993a",
   "metadata": {},
   "outputs": [
    {
     "data": {
      "text/plain": [
       "DecisionTreeClassifier(max_depth=6, min_samples_leaf=8, random_state=100)"
      ]
     },
     "execution_count": 14,
     "metadata": {},
     "output_type": "execute_result"
    }
   ],
   "source": [
    "model_dt.fit(x_train,y_train)"
   ]
  },
  {
   "cell_type": "code",
   "execution_count": 15,
   "id": "b71d2270-7519-4b38-ad64-0ce9690f4654",
   "metadata": {},
   "outputs": [
    {
     "data": {
      "text/plain": [
       "array([0, 0, 0, ..., 0, 1, 1], dtype=int64)"
      ]
     },
     "execution_count": 15,
     "metadata": {},
     "output_type": "execute_result"
    }
   ],
   "source": [
    "y_pred=model_dt.predict(x_test)\n",
    "y_pred"
   ]
  },
  {
   "cell_type": "code",
   "execution_count": 16,
   "id": "b0dfd02e-43e3-46e4-92c8-811b0bbf22f7",
   "metadata": {},
   "outputs": [
    {
     "data": {
      "text/plain": [
       "0.7938877043354655"
      ]
     },
     "execution_count": 16,
     "metadata": {},
     "output_type": "execute_result"
    }
   ],
   "source": [
    "model_dt.score(x_test,y_test)"
   ]
  },
  {
   "cell_type": "markdown",
   "id": "5c45eb4e-f605-4374-b12a-48670a3bdadf",
   "metadata": {},
   "source": [
    "Here accuracy is very low \n",
    "### possible reason was identified by us during EDA that our label data is highly imbalanced\n",
    "classification report and confusion matrix below wil give us the clear image of our model prediction accuracy"
   ]
  },
  {
   "cell_type": "code",
   "execution_count": 17,
   "id": "812bd6bb-8c21-4ba9-8f39-8a4539278a25",
   "metadata": {},
   "outputs": [
    {
     "name": "stdout",
     "output_type": "stream",
     "text": [
      "              precision    recall  f1-score   support\n",
      "\n",
      "           0       0.84      0.88      0.86       999\n",
      "           1       0.67      0.57      0.62       408\n",
      "\n",
      "    accuracy                           0.79      1407\n",
      "   macro avg       0.75      0.73      0.74      1407\n",
      "weighted avg       0.79      0.79      0.79      1407\n",
      "\n"
     ]
    }
   ],
   "source": [
    "print(classification_report(y_test, y_pred, labels=[0,1]))"
   ]
  },
  {
   "cell_type": "code",
   "execution_count": 18,
   "id": "3066928b-c801-4bad-b157-35350c1eded8",
   "metadata": {},
   "outputs": [
    {
     "name": "stdout",
     "output_type": "stream",
     "text": [
      "[[883 116]\n",
      " [174 234]]\n"
     ]
    }
   ],
   "source": [
    "print(confusion_matrix(y_test,y_pred))"
   ]
  },
  {
   "cell_type": "markdown",
   "id": "3606017a-dbfe-4579-aa38-2397c48e2e85",
   "metadata": {},
   "source": [
    "as we can see that precision, recall and f1-score for churners is very low \n",
    "so we need to solve this data imbalanced issue before moving on to trianing and predicting results"
   ]
  },
  {
   "cell_type": "markdown",
   "id": "eba19fdb-ea2f-41be-b62a-998858689dad",
   "metadata": {},
   "source": [
    "## 4. smoteenning the dataset to get balanced ratio for label data"
   ]
  },
  {
   "cell_type": "code",
   "execution_count": 25,
   "id": "c4399680-f5f3-4454-808d-92394b4521d4",
   "metadata": {},
   "outputs": [],
   "source": [
    "sm = SMOTEENN()\n",
    "X_resampled, y_resampled = sm.fit_resample(featuresData,labelData)"
   ]
  },
  {
   "cell_type": "code",
   "execution_count": 26,
   "id": "49cdb3f9-d99f-4fab-90a1-8e8fa2ff6ed6",
   "metadata": {},
   "outputs": [],
   "source": [
    "\n",
    "xr_train,xr_test,yr_train,yr_test=train_test_split(X_resampled, y_resampled,test_size=0.2)"
   ]
  },
  {
   "cell_type": "markdown",
   "id": "e40d4ee0-b81b-44d2-94d2-e6f6a22c17e3",
   "metadata": {
    "tags": []
   },
   "source": [
    "## 5.Decision Tree Classifier after smoteenning"
   ]
  },
  {
   "cell_type": "code",
   "execution_count": 52,
   "id": "c251a0d6-b5f1-427c-876d-d52084fd27cd",
   "metadata": {},
   "outputs": [],
   "source": [
    "model_dt_smote=DecisionTreeClassifier(criterion = \"gini\",random_state = 100,max_depth=6, min_samples_leaf=8)"
   ]
  },
  {
   "cell_type": "code",
   "execution_count": 60,
   "id": "7cb9f720-1a32-4f23-9b30-01e38ced5d70",
   "metadata": {},
   "outputs": [
    {
     "name": "stdout",
     "output_type": "stream",
     "text": [
      "0.9317988064791134\n",
      "              precision    recall  f1-score   support\n",
      "\n",
      "           0       0.95      0.90      0.92       537\n",
      "           1       0.92      0.96      0.94       636\n",
      "\n",
      "    accuracy                           0.93      1173\n",
      "   macro avg       0.93      0.93      0.93      1173\n",
      "weighted avg       0.93      0.93      0.93      1173\n",
      "\n"
     ]
    }
   ],
   "source": [
    "model_dt_smote.fit(xr_train,yr_train)\n",
    "yr_predict = model_dt_smote.predict(xr_test)\n",
    "model_score_r = model_dt_smote.score(xr_test, yr_test)\n",
    "print(model_score_r)\n",
    "print(metrics.classification_report(yr_test, yr_predict))"
   ]
  },
  {
   "cell_type": "code",
   "execution_count": 59,
   "id": "bb5a3f10-5942-48a5-a4e6-1ead2ac1370e",
   "metadata": {},
   "outputs": [
    {
     "name": "stdout",
     "output_type": "stream",
     "text": [
      "[[481  56]\n",
      " [ 24 612]]\n"
     ]
    }
   ],
   "source": [
    "print(metrics.confusion_matrix(yr_test, yr_predict))"
   ]
  },
  {
   "cell_type": "code",
   "execution_count": 55,
   "id": "96871340-4734-4e11-8e9d-7f1c55ca8517",
   "metadata": {},
   "outputs": [
    {
     "name": "stdout",
     "output_type": "stream",
     "text": [
      "MAE:  0.06820119352088662\n",
      "R-squared:  0.7252380450440954\n"
     ]
    }
   ],
   "source": [
    "from sklearn.metrics import mean_absolute_error, r2_score\n",
    "\n",
    "mae = mean_absolute_error(yr_test, yr_predict)\n",
    "print(\"MAE: \", mae)\n",
    "\n",
    "# calculate the coefficient of determination (R-squared)\n",
    "r2 = r2_score(yr_test, yr_predict)\n",
    "print(\"R-squared: \", r2)"
   ]
  },
  {
   "cell_type": "markdown",
   "id": "eb5a9c58-3829-423c-ac41-06602283387a",
   "metadata": {},
   "source": [
    "This is a good result, as the MAE is low and suggests that our model is making accurate predictions.\n",
    "as the R-squared is reasonably high and suggests that our model is a good fit for the data. Lets see if r-squared value can be improved by using random forest classifier"
   ]
  },
  {
   "cell_type": "markdown",
   "id": "bc20300c-228f-4cb6-89f1-455c4cf9da7c",
   "metadata": {
    "tags": []
   },
   "source": [
    "# 6.Random Forest Classifier"
   ]
  },
  {
   "cell_type": "code",
   "execution_count": 32,
   "id": "ece70ffc-4508-4c6f-9c37-1cef3474b16c",
   "metadata": {},
   "outputs": [],
   "source": [
    "from sklearn.ensemble import RandomForestClassifier"
   ]
  },
  {
   "cell_type": "code",
   "execution_count": 97,
   "id": "915b9fae-12c2-4353-9b59-eaa36a661519",
   "metadata": {},
   "outputs": [],
   "source": [
    "model_rf=RandomForestClassifier(n_estimators=100, criterion='gini', random_state = 100,max_depth=6, min_samples_leaf=8)"
   ]
  },
  {
   "cell_type": "code",
   "execution_count": 98,
   "id": "fb84b5fa-5d7e-44c8-ab3a-8ee5ed6adaa1",
   "metadata": {},
   "outputs": [
    {
     "data": {
      "text/plain": [
       "RandomForestClassifier(max_depth=6, min_samples_leaf=8, random_state=100)"
      ]
     },
     "execution_count": 98,
     "metadata": {},
     "output_type": "execute_result"
    }
   ],
   "source": [
    "model_rf.fit(xr_train,yr_train)"
   ]
  },
  {
   "cell_type": "code",
   "execution_count": 99,
   "id": "6936b40a-240f-4f46-b572-9d1caf605cde",
   "metadata": {},
   "outputs": [],
   "source": [
    "y_pred=model_rf.predict(xr_test)"
   ]
  },
  {
   "cell_type": "code",
   "execution_count": 100,
   "id": "cc54b1a5-48e7-48cc-a2f4-04e4a89d9d1d",
   "metadata": {},
   "outputs": [
    {
     "data": {
      "text/plain": [
       "0.9343563512361467"
      ]
     },
     "execution_count": 100,
     "metadata": {},
     "output_type": "execute_result"
    }
   ],
   "source": [
    "model_rf.score(xr_test,yr_test)"
   ]
  },
  {
   "cell_type": "code",
   "execution_count": 101,
   "id": "62f46222-8bff-40d1-8b30-cef2f51b1e68",
   "metadata": {},
   "outputs": [
    {
     "name": "stdout",
     "output_type": "stream",
     "text": [
      "              precision    recall  f1-score   support\n",
      "\n",
      "           0       0.97      0.88      0.93       537\n",
      "           1       0.91      0.98      0.94       636\n",
      "\n",
      "    accuracy                           0.93      1173\n",
      "   macro avg       0.94      0.93      0.93      1173\n",
      "weighted avg       0.94      0.93      0.93      1173\n",
      "\n"
     ]
    }
   ],
   "source": [
    "print(classification_report(yr_test, y_pred, labels=[0,1]))"
   ]
  },
  {
   "cell_type": "code",
   "execution_count": 102,
   "id": "deee19c5-5419-4193-9cc5-2b435d1d8521",
   "metadata": {},
   "outputs": [
    {
     "name": "stdout",
     "output_type": "stream",
     "text": [
      "[[475  62]\n",
      " [ 15 621]]\n"
     ]
    }
   ],
   "source": [
    "print(metrics.confusion_matrix(yr_test, y_pred))"
   ]
  },
  {
   "cell_type": "code",
   "execution_count": 103,
   "id": "530003e4-ba2c-473b-b7e4-a5d95b27dc6c",
   "metadata": {},
   "outputs": [
    {
     "name": "stdout",
     "output_type": "stream",
     "text": [
      "MAE:  0.06564364876385337\n",
      "R-squared:  0.7355416183549418\n"
     ]
    }
   ],
   "source": [
    "from sklearn.metrics import mean_absolute_error, r2_score\n",
    "\n",
    "mae = mean_absolute_error(yr_test, y_pred)\n",
    "print(\"MAE: \", mae)\n",
    "\n",
    "# calculate the coefficient of determination (R-squared)\n",
    "r2 = r2_score(yr_test, y_pred)\n",
    "print(\"R-squared: \", r2)"
   ]
  },
  {
   "cell_type": "markdown",
   "id": "e824e3d6-bf6e-4b7f-af4c-ea0628a0ad9c",
   "metadata": {},
   "source": [
    "# 7.Further Suggested improvements in this model\n",
    "this model can be integrated inside a pipeline using sklearn pipiline module \n",
    "for classifier sleection (for selecting the most accurate classifier)\n",
    "hyper paramter tuning (for getting highest possible accuracy)\n",
    "later cross validation can be done using cross_validate module of sklearn.\n",
    "Here in my case i have acheived a reasonably good accuracy for the prediction whether the custome is going to churn or not. "
   ]
  },
  {
   "cell_type": "markdown",
   "id": "253a3367-487b-4fd8-99ee-b82f5b569638",
   "metadata": {},
   "source": [
    "# 8.Saving the trained Models"
   ]
  },
  {
   "cell_type": "code",
   "execution_count": 104,
   "id": "eef84f69-9720-4ee5-814c-7c13ef9c2410",
   "metadata": {},
   "outputs": [],
   "source": [
    "import pickle"
   ]
  },
  {
   "cell_type": "code",
   "execution_count": 114,
   "id": "d0df60e5-3ab1-4e08-8d48-49dbe41d1f5f",
   "metadata": {},
   "outputs": [],
   "source": [
    "filename = 'decsionTree.sav'\n",
    "filename1 = 'randomeForest.sav'"
   ]
  },
  {
   "cell_type": "code",
   "execution_count": 117,
   "id": "3f69a287-3d8e-430f-932b-d55fdd962c5c",
   "metadata": {},
   "outputs": [],
   "source": [
    "pickle.dump(model_dt_smote, open(filename, 'wb'))\n"
   ]
  },
  {
   "cell_type": "code",
   "execution_count": 116,
   "id": "94f2e7d2-7cbc-4b3c-9ba5-7cc5d7475608",
   "metadata": {},
   "outputs": [],
   "source": [
    "pickle.dump(model_rf, open(filename1, 'wb'))"
   ]
  },
  {
   "cell_type": "code",
   "execution_count": null,
   "id": "d55492cb-d3b4-464a-85e2-4fa794b78696",
   "metadata": {},
   "outputs": [],
   "source": []
  }
 ],
 "metadata": {
  "kernelspec": {
   "display_name": "Python 3 (ipykernel)",
   "language": "python",
   "name": "python3"
  },
  "language_info": {
   "codemirror_mode": {
    "name": "ipython",
    "version": 3
   },
   "file_extension": ".py",
   "mimetype": "text/x-python",
   "name": "python",
   "nbconvert_exporter": "python",
   "pygments_lexer": "ipython3",
   "version": "3.9.13"
  }
 },
 "nbformat": 4,
 "nbformat_minor": 5
}
